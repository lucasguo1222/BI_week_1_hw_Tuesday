{
 "cells": [
  {
   "cell_type": "markdown",
   "metadata": {},
   "source": [
    "# Thinking Part HW"
   ]
  },
  {
   "cell_type": "markdown",
   "metadata": {},
   "source": [
    "## Think 1"
   ]
  },
  {
   "cell_type": "markdown",
   "metadata": {},
   "source": [
    "#### 既然内容相似度计算简单，能频繁更新，为什么还需要协同过滤算法呢？"
   ]
  },
  {
   "cell_type": "markdown",
   "metadata": {},
   "source": [
    "###### 因为协同过滤算法是动态而内容相似度是静态算法。目前来说动态的推荐系统要表现更好一些而且和当下的热点关联度更高。有一些事件和标签不是因为内容相似而有关联的所以静态的内容相似度计算就无法反应这种趋势。"
   ]
  },
  {
   "cell_type": "markdown",
   "metadata": {},
   "source": [
    "###### 举个例子，比如李白，一般情况下打的标签是诗人或者唐朝，但是因为王者荣耀的风靡，可能很多人对他的搜索是因为王者荣耀相关的东西，通过协同过滤就能反映这种趋势而基于内容则无法做到"
   ]
  },
  {
   "cell_type": "markdown",
   "metadata": {},
   "source": [
    "## Think 2"
   ]
  },
  {
   "cell_type": "markdown",
   "metadata": {},
   "source": [
    "#### 你需要推荐系统么？哪些情况下不需要推荐系统？"
   ]
  },
  {
   "cell_type": "markdown",
   "metadata": {},
   "source": [
    "###### 推荐系统并不是所有的应用或者服务都需要。比如一些刚刚起步的企业或者用户少的产品，推荐系统带来的收益可能不如其他的投资比如宣传带来的效益高。只有在用户足够多并且产品足够多的情况下发展推荐系统意义较大"
   ]
  },
  {
   "cell_type": "markdown",
   "metadata": {},
   "source": [
    "## Think 3"
   ]
  },
  {
   "cell_type": "markdown",
   "metadata": {},
   "source": [
    "#### 如果给一个视频打标签，视频中有音乐作为背景音乐，采用了NLP方式对内容自动打标签，可能存在什么问题？"
   ]
  },
  {
   "cell_type": "markdown",
   "metadata": {},
   "source": [
    "###### 可能存在的问题是很多视频其内容和音乐不相关，这就导致了使用NLP对音乐打标签之后，标签也因此和视频内容无关，变成了一个无用且有误导性的标签"
   ]
  },
  {
   "cell_type": "code",
   "execution_count": null,
   "metadata": {},
   "outputs": [],
   "source": []
  }
 ],
 "metadata": {
  "kernelspec": {
   "display_name": "Python 3",
   "language": "python",
   "name": "python3"
  },
  "language_info": {
   "codemirror_mode": {
    "name": "ipython",
    "version": 3
   },
   "file_extension": ".py",
   "mimetype": "text/x-python",
   "name": "python",
   "nbconvert_exporter": "python",
   "pygments_lexer": "ipython3",
   "version": "3.8.3"
  }
 },
 "nbformat": 4,
 "nbformat_minor": 4
}
